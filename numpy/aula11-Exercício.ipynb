{
 "cells": [
  {
   "cell_type": "markdown",
   "id": "56ec88a2",
   "metadata": {},
   "source": [
    "## Exercício\n",
    "\n",
    "Você é um gerente de vendas e tem os dados de vendas de três produtos diferentes (Produto A, Produto B, Produto C) para os últimos 5 dias em um array 2D NumPy. Cada linha do array representa um produto e cada coluna representa um dia. Seu trabalho é calcular as vendas totais para cada produto e para cada dia.\n",
    "\n",
    "Use o seguinte array para sua análise:\n",
    "\n",
    "```python\n",
    "vendas = np.array([[50, 60, 70, 65, 80],\n",
    "                   [85, 90, 78, 92, 88],\n",
    "                   [72, 75, 68, 77, 76]])\n",
    "```\n",
    "\n",
    "**Solução:**\n"
   ]
  },
  {
   "cell_type": "code",
   "execution_count": 1,
   "id": "d0f4d6cc",
   "metadata": {},
   "outputs": [],
   "source": [
    "import numpy as np\n",
    "vendas = np.array([[50, 60, 70, 65, 80],\n",
    "                   [85, 90, 78, 92, 88],\n",
    "                   [72, 75, 68, 77, 76]])"
   ]
  },
  {
   "cell_type": "code",
   "execution_count": 5,
   "id": "3cbd03aa",
   "metadata": {},
   "outputs": [
    {
     "name": "stdout",
     "output_type": "stream",
     "text": [
      "Vendas totais para o produto A 325\n",
      "Vendas totais para o produto B 433\n",
      "Vendas totais para o produto C 368\n"
     ]
    }
   ],
   "source": [
    "#vendas totais de cada produto\n",
    "vendas_totais = vendas.sum(axis=1)\n",
    "print(f\"Vendas totais para o produto A {vendas_totais[0]}\")\n",
    "print(f\"Vendas totais para o produto B {vendas_totais[1]}\")\n",
    "print(f\"Vendas totais para o produto C {vendas_totais[2]}\")"
   ]
  },
  {
   "cell_type": "code",
   "execution_count": 6,
   "id": "b2c11f4b",
   "metadata": {},
   "outputs": [
    {
     "name": "stdout",
     "output_type": "stream",
     "text": [
      "Vendas totais para o dia 1 foi de 207\n",
      "Vendas totais para o dia 2 foi de 225\n",
      "Vendas totais para o dia 3 foi de 216\n",
      "Vendas totais para o dia 4 foi de 234\n",
      "Vendas totais para o dia 5 foi de 244\n"
     ]
    }
   ],
   "source": [
    "#vendas totais para cada dia\n",
    "vendas_dias = vendas.sum(axis=0)\n",
    "for i in range(5):\n",
    "    print(f\"Vendas totais para o dia {i+1} foi de {vendas_dias[i]}\")\n"
   ]
  }
 ],
 "metadata": {
  "kernelspec": {
   "display_name": ".venv",
   "language": "python",
   "name": "python3"
  },
  "language_info": {
   "codemirror_mode": {
    "name": "ipython",
    "version": 3
   },
   "file_extension": ".py",
   "mimetype": "text/x-python",
   "name": "python",
   "nbconvert_exporter": "python",
   "pygments_lexer": "ipython3",
   "version": "3.13.0"
  }
 },
 "nbformat": 4,
 "nbformat_minor": 5
}
