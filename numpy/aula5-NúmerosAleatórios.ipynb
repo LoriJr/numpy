{
 "cells": [
  {
   "cell_type": "markdown",
   "id": "68b0fccd",
   "metadata": {},
   "source": [
    "# Guia de Introdução ao NumPy\n",
    "\n",
    "NumPy, que significa Numerical Python, é uma biblioteca fundamental para a computação científica em Python. Ela fornece suporte para arrays e matrizes, além de funções matemáticas para operações com esses objetos. É, também, a base da biblioteca Pandas.\n",
    "\n"
   ]
  },
  {
   "cell_type": "markdown",
   "id": "71905204",
   "metadata": {},
   "source": [
    "## Números aleatórios e estatística básica  "
   ]
  },
  {
   "cell_type": "code",
   "execution_count": 2,
   "id": "f8eddcd8",
   "metadata": {},
   "outputs": [
    {
     "name": "stdout",
     "output_type": "stream",
     "text": [
      "0.7974512816166494\n"
     ]
    }
   ],
   "source": [
    "import numpy as np\n",
    "\n",
    "# Crie um gerador de números aleatórios.\n",
    "rng = np.random.default_rng()\n",
    "\n",
    "numero_aleatorio = rng.random()\n",
    "print(numero_aleatorio)"
   ]
  },
  {
   "cell_type": "code",
   "execution_count": 15,
   "id": "859f1191",
   "metadata": {},
   "outputs": [
    {
     "name": "stdout",
     "output_type": "stream",
     "text": [
      "[0.00728435 0.70474238 0.49028155]\n"
     ]
    }
   ],
   "source": [
    "array_aleatorio = rng.random(3) #quantidade de números aleatórios gerados\n",
    "print(array_aleatorio)"
   ]
  },
  {
   "cell_type": "code",
   "execution_count": 16,
   "id": "a7f26777",
   "metadata": {},
   "outputs": [
    {
     "name": "stdout",
     "output_type": "stream",
     "text": [
      "[0.07284347 7.04742375 4.90281547]\n"
     ]
    }
   ],
   "source": [
    "print(array_aleatorio * 10) # por padrão os números gerados são de 0. , quando adicionado um multiplicador está adicionando mais uma casa no número gerado \n"
   ]
  },
  {
   "cell_type": "markdown",
   "id": "4143bec0",
   "metadata": {},
   "source": [
    " Vamos criar um cenário onde esses dados aleatórios podem ser úteis para uma análise de vendas.\n",
    "\n",
    "Suponha que você seja um analista de vendas em uma empresa e queira entender melhor o desempenho das vendas de um produto específico. No entanto, você não tem acesso aos dados reais de vendas, então você decide gerar alguns dados de vendas aleatórios para realizar sua análise."
   ]
  },
  {
   "cell_type": "code",
   "execution_count": 3,
   "id": "cd2f4d62",
   "metadata": {},
   "outputs": [
    {
     "name": "stdout",
     "output_type": "stream",
     "text": [
      "[ 63 166 148 115 114 178  62 154  80  64 128 196 160 164 157 167 126  69\n",
      " 175 117 125 105  77 189 167 146 110 173 131 116]\n"
     ]
    }
   ],
   "source": [
    "# Gere dados de vendas falsos para 30 dias\n",
    "# Vamos supor que as vendas de um produto podem variar de 50 a 200 por dia \n",
    "rng = np.random.default_rng(seed=42) # esse trecho serve para fixar os números aleatórios que foram gerados\n",
    "dados_vendas = rng.integers(low=50, high=200, size=30)\n",
    "print(dados_vendas) "
   ]
  },
  {
   "cell_type": "code",
   "execution_count": 5,
   "id": "1808a68b",
   "metadata": {},
   "outputs": [
    {
     "name": "stdout",
     "output_type": "stream",
     "text": [
      "63, 166, 148, 115, 114, 178, 62, 154, 80, 64, 128, 196, 160, 164, 157, 167, 126, 69, 175, 117, 125, 105, 77, 189, 167, 146, 110, 173, 131, 116\n"
     ]
    }
   ],
   "source": [
    "#adicionando separador vírgula na lista\n",
    "dados_formatados = \", \".join(str(x) for x in dados_vendas)\n",
    "print(dados_formatados)"
   ]
  },
  {
   "cell_type": "code",
   "execution_count": 31,
   "id": "f3bf11c7",
   "metadata": {},
   "outputs": [
    {
     "name": "stdout",
     "output_type": "stream",
     "text": [
      "[178 189 196]\n"
     ]
    }
   ],
   "source": [
    "#ordenar os maiores números do array\n",
    "maiores_valores = np.sort(dados_vendas)[-3:]\n",
    "print(maiores_valores)"
   ]
  },
  {
   "cell_type": "code",
   "execution_count": 41,
   "id": "8dae60d9",
   "metadata": {},
   "outputs": [
    {
     "name": "stdout",
     "output_type": "stream",
     "text": [
      "[ 5 23 11]\n"
     ]
    }
   ],
   "source": [
    "#exibindo os dias onde houve as maiores vendas\n",
    "dias_vendas = np.argsort(dados_vendas)[-3:]\n",
    "print(dias_vendas)"
   ]
  },
  {
   "cell_type": "markdown",
   "id": "e83f65d9",
   "metadata": {},
   "source": [
    "Agora, você pode usar esses dados para realizar várias análises. Por exemplo, você pode querer saber qual foi o dia com as vendas mais altas, as vendas mais baixas, ou a média de vendas durante o mês. Aqui está como você pode fazer isso:\n",
    "\n"
   ]
  },
  {
   "cell_type": "code",
   "execution_count": null,
   "id": "a0f7e5d6",
   "metadata": {},
   "outputs": [
    {
     "name": "stdout",
     "output_type": "stream",
     "text": [
      "196\n"
     ]
    }
   ],
   "source": [
    "print(np.max(dados_vendas))"
   ]
  },
  {
   "cell_type": "code",
   "execution_count": null,
   "id": "c84c2f15",
   "metadata": {},
   "outputs": [
    {
     "name": "stdout",
     "output_type": "stream",
     "text": [
      "11\n"
     ]
    }
   ],
   "source": [
    "print(np.argmax(dados_vendas))"
   ]
  },
  {
   "cell_type": "code",
   "execution_count": null,
   "id": "5e65b1d1",
   "metadata": {},
   "outputs": [
    {
     "name": "stdout",
     "output_type": "stream",
     "text": [
      "O dia com as vendas mais altas foi o dia 12 com 196 vendas.\n"
     ]
    }
   ],
   "source": [
    "# Dia com as vendas mais altas\n",
    "vendas_maximas = np.max(dados_vendas)\n",
    "dia_vendas_maximas = np.argmax(dados_vendas) + 1\n",
    "print(f\"O dia com as vendas mais altas foi o dia {dia_vendas_maximas} com {vendas_maximas} vendas.\")"
   ]
  },
  {
   "cell_type": "code",
   "execution_count": null,
   "id": "0acd7e8f",
   "metadata": {},
   "outputs": [
    {
     "name": "stdout",
     "output_type": "stream",
     "text": [
      "O dia com as vendas mais baixas foi o dia 7 com 62 vendas.\n"
     ]
    }
   ],
   "source": [
    "# Dia com as vendas mais baixas\n",
    "vendas_minimas = np.min(dados_vendas)\n",
    "dia_vendas_minimas = np.argmin(dados_vendas) + 1\n",
    "print(f\"O dia com as vendas mais baixas foi o dia {dia_vendas_minimas} com {vendas_minimas} vendas.\")"
   ]
  },
  {
   "cell_type": "code",
   "execution_count": null,
   "id": "d6c85d4a",
   "metadata": {},
   "outputs": [
    {
     "name": "stdout",
     "output_type": "stream",
     "text": [
      "A média de vendas durante o mês foi de 131.4 vendas por dia.\n"
     ]
    }
   ],
   "source": [
    "# Média de vendas durante o mês\n",
    "media_vendas = np.mean(dados_vendas)\n",
    "print(f\"A média de vendas durante o mês foi de {media_vendas} vendas por dia.\")\n"
   ]
  },
  {
   "cell_type": "code",
   "execution_count": null,
   "id": "8abc1fd3",
   "metadata": {},
   "outputs": [
    {
     "name": "stdout",
     "output_type": "stream",
     "text": [
      "129.5\n"
     ]
    }
   ],
   "source": [
    "print(np.median(dados_vendas))"
   ]
  },
  {
   "cell_type": "code",
   "execution_count": null,
   "id": "b63ef049",
   "metadata": {},
   "outputs": [
    {
     "name": "stdout",
     "output_type": "stream",
     "text": [
      "129.5\n"
     ]
    }
   ],
   "source": [
    "print(np.percentile(dados_vendas, 50))"
   ]
  },
  {
   "cell_type": "code",
   "execution_count": null,
   "id": "e4280abc",
   "metadata": {},
   "outputs": [
    {
     "name": "stdout",
     "output_type": "stream",
     "text": [
      "39.305300745149715\n"
     ]
    }
   ],
   "source": [
    "print(np.std(dados_vendas))"
   ]
  },
  {
   "cell_type": "code",
   "execution_count": null,
   "id": "7fb1b7fb",
   "metadata": {},
   "outputs": [
    {
     "name": "stdout",
     "output_type": "stream",
     "text": [
      "1544.9066666666665\n"
     ]
    }
   ],
   "source": [
    "print(np.var(dados_vendas))\n"
   ]
  },
  {
   "cell_type": "markdown",
   "id": "b5d8dba3",
   "metadata": {},
   "source": [
    "Breve resumo e conceitos simplificados das funções estatísticas citadas:\n",
    "\n",
    "1. Mediana:\n",
    "A mediana é um valor que divide um conjunto de dados em duas partes iguais. Para encontrá-la, você deve organizar os dados em ordem crescente ou decrescente e escolher o valor do meio. Se houver um número ímpar de dados, a mediana será exatamente o valor central. Se houver um número par de dados, a mediana será a média dos dois valores do meio.\n",
    "\n",
    "2. Percentil:\n",
    "O percentil é uma medida estatística que indica a posição relativa de um dado dentro de um conjunto de dados. Ele informa a porcentagem de valores que estão abaixo desse dado. Por exemplo, o percentil 50 (também conhecido como mediana) divide os dados em duas partes iguais, com 50% dos valores abaixo dele e 50% acima.\n",
    "\n",
    "3. Desvio padrão:\n",
    "O desvio padrão é uma medida que indica o quão dispersos os valores de um conjunto de dados estão em relação à média. Ele mostra a variabilidade dos dados em relação ao valor médio. Um desvio padrão maior indica que os dados estão mais espalhados, enquanto um desvio padrão menor indica que os dados estão mais próximos da média.\n",
    "\n",
    "4. Variância:\n",
    "A variância é outra medida de dispersão que indica o quão distantes os valores de um conjunto de dados estão da média. Ela é calculada como a média dos quadrados das diferenças entre cada valor e a média. A variância fornece uma medida da dispersão total dos dados, independentemente de serem maiores ou menores que a média.\n",
    "\n",
    "Essas medidas são amplamente utilizadas na estatística para resumir e analisar conjuntos de dados. Elas fornecem informações valiosas sobre a distribuição, a variabilidade e a posição dos dados, permitindo uma compreensão mais completa dos mesmos."
   ]
  }
 ],
 "metadata": {
  "kernelspec": {
   "display_name": ".venv",
   "language": "python",
   "name": "python3"
  },
  "language_info": {
   "codemirror_mode": {
    "name": "ipython",
    "version": 3
   },
   "file_extension": ".py",
   "mimetype": "text/x-python",
   "name": "python",
   "nbconvert_exporter": "python",
   "pygments_lexer": "ipython3",
   "version": "3.13.0"
  }
 },
 "nbformat": 4,
 "nbformat_minor": 5
}
