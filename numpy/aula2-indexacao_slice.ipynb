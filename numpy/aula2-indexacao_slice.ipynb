{
 "cells": [
  {
   "cell_type": "markdown",
   "id": "96c7cba2",
   "metadata": {},
   "source": [
    "# Guia de Introdução ao NumPy\n",
    "\n",
    "NumPy, que significa Numerical Python, é uma biblioteca fundamental para a computação científica em Python. Ela fornece suporte para arrays e matrizes, além de funções matemáticas para operações com esses objetos. É, também, a base da biblioteca Pandas.\n",
    "\n"
   ]
  },
  {
   "cell_type": "markdown",
   "id": "1245e480",
   "metadata": {},
   "source": [
    "## Instalação\n",
    "\n",
    "Para instalar o NumPy, você pode usar o pip, que é o gerenciador de pacotes do Python.\n",
    "\n",
    "```python\n",
    "pip install numpy\n",
    "```\n",
    "\n",
    "## Arrays\n",
    "\n",
    "Um array é uma estrutura de dados que armazena valores do mesmo tipo. Em Python, isso é uma grande vantagem porque economiza espaço e permite operações mais eficientes. Vamos criar um array.\n",
    "\n"
   ]
  },
  {
   "cell_type": "code",
   "execution_count": null,
   "id": "f4989ec4",
   "metadata": {},
   "outputs": [
    {
     "name": "stdout",
     "output_type": "stream",
     "text": [
      "[1 2 3 4 5]\n"
     ]
    }
   ],
   "source": [
    "import numpy as np\n",
    "\n",
    "# Criação de um array\n",
    "array = np.array([1, 2, 3, 4, 5])\n",
    "print(array)"
   ]
  },
  {
   "cell_type": "code",
   "execution_count": null,
   "id": "d778bc1d",
   "metadata": {},
   "outputs": [
    {
     "name": "stdout",
     "output_type": "stream",
     "text": [
      "1\n"
     ]
    }
   ],
   "source": [
    "print(array[0])"
   ]
  },
  {
   "cell_type": "code",
   "execution_count": null,
   "id": "b0f7f53f",
   "metadata": {},
   "outputs": [
    {
     "name": "stdout",
     "output_type": "stream",
     "text": [
      "[2 3 4]\n"
     ]
    }
   ],
   "source": [
    "print(array[1:4])"
   ]
  },
  {
   "cell_type": "code",
   "execution_count": null,
   "id": "97bb692e",
   "metadata": {},
   "outputs": [
    {
     "name": "stdout",
     "output_type": "stream",
     "text": [
      "[1 2 3 4]\n"
     ]
    }
   ],
   "source": [
    "print(array[0:-1])"
   ]
  },
  {
   "cell_type": "code",
   "execution_count": null,
   "id": "ecf93c76",
   "metadata": {},
   "outputs": [
    {
     "name": "stdout",
     "output_type": "stream",
     "text": [
      "[1 3]\n"
     ]
    }
   ],
   "source": [
    "print(array[0:-1:2])"
   ]
  },
  {
   "cell_type": "code",
   "execution_count": null,
   "id": "d4fd7e64",
   "metadata": {},
   "outputs": [
    {
     "name": "stdout",
     "output_type": "stream",
     "text": [
      "[1 3 5]\n"
     ]
    }
   ],
   "source": [
    "print(array[0::2])\n"
   ]
  },
  {
   "cell_type": "code",
   "execution_count": null,
   "id": "0f76062e",
   "metadata": {},
   "outputs": [
    {
     "name": "stdout",
     "output_type": "stream",
     "text": [
      "[1 3 5]\n"
     ]
    }
   ],
   "source": [
    "print(array[::2])\n"
   ]
  },
  {
   "cell_type": "code",
   "execution_count": null,
   "id": "5b38828a",
   "metadata": {},
   "outputs": [
    {
     "name": "stdout",
     "output_type": "stream",
     "text": [
      "[1 2 3 4 5]\n"
     ]
    }
   ],
   "source": [
    "print(array[::])\n"
   ]
  },
  {
   "cell_type": "code",
   "execution_count": null,
   "id": "fed152ff",
   "metadata": {},
   "outputs": [
    {
     "name": "stdout",
     "output_type": "stream",
     "text": [
      "[5 4 3 2 1]\n"
     ]
    }
   ],
   "source": [
    "print(array[::-1])\n"
   ]
  }
 ],
 "metadata": {
  "kernelspec": {
   "display_name": ".venv",
   "language": "python",
   "name": "python3"
  },
  "language_info": {
   "codemirror_mode": {
    "name": "ipython",
    "version": 3
   },
   "file_extension": ".py",
   "mimetype": "text/x-python",
   "name": "python",
   "nbconvert_exporter": "python",
   "pygments_lexer": "ipython3",
   "version": "3.13.0"
  }
 },
 "nbformat": 4,
 "nbformat_minor": 5
}
