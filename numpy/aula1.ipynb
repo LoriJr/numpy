{
 "cells": [
  {
   "cell_type": "code",
   "execution_count": 12,
   "id": "08788318",
   "metadata": {},
   "outputs": [
    {
     "name": "stdout",
     "output_type": "stream",
     "text": [
      "[1 2 3 4 5]\n"
     ]
    }
   ],
   "source": [
    "import numpy as np\n",
    "\n",
    "array = np.array([1,2,3,4,5])\n",
    "print(array)"
   ]
  },
  {
   "cell_type": "code",
   "execution_count": null,
   "id": "19241117",
   "metadata": {},
   "outputs": [
    {
     "name": "stdout",
     "output_type": "stream",
     "text": [
      "[3 4 5 6 7]\n"
     ]
    }
   ],
   "source": [
    "#fazendo contas com os valores do array\n",
    "novo_array = array + 2 # adicionando 2 a cada um dos elementos da \"lista\"\n",
    "print(novo_array)"
   ]
  },
  {
   "cell_type": "markdown",
   "id": "b8cc5fcd",
   "metadata": {},
   "source": [
    "## RESUMINDO\n",
    "Aqui estão algumas diferenças chave entre listas e arrays:\n",
    "1. ### tipo de dados: \n",
    "as listas podem armazenas elementos de tipos diferntes ao mesmo tempo, enquanto os arrays armazenam elementos do mesmo tipo.\n",
    "2. ### Operações matemátias:\n",
    "você pode realizar operaçõe smatiemáticas em todos os elementos de um array de uma vez, o que não é possível com listas.\n",
    "3. ### Desempenho:\n",
    "Arrays são mais eficientes em termos de memória e desempenho do que listas quando se trabalha com grandes quantidades de dados numéricos\n",
    "4. ### Funcionalidades\n",
    "Numpy arrays vê com várias funções integragas para operações matemáticas e científicas, como média, soma multiplicação de matrizes, etc, ... que não estão disponíveis com listas"
   ]
  }
 ],
 "metadata": {
  "kernelspec": {
   "display_name": ".venv",
   "language": "python",
   "name": "python3"
  },
  "language_info": {
   "codemirror_mode": {
    "name": "ipython",
    "version": 3
   },
   "file_extension": ".py",
   "mimetype": "text/x-python",
   "name": "python",
   "nbconvert_exporter": "python",
   "pygments_lexer": "ipython3",
   "version": "3.13.0"
  }
 },
 "nbformat": 4,
 "nbformat_minor": 5
}
