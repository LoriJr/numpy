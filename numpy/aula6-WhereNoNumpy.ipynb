{
 "cells": [
  {
   "cell_type": "markdown",
   "id": "814105b3",
   "metadata": {},
   "source": [
    "# Guia de Introdução ao NumPy\n",
    "\n",
    "NumPy, que significa Numerical Python, é uma biblioteca fundamental para a computação científica em Python. Ela fornece suporte para arrays e matrizes, além de funções matemáticas para operações com esses objetos. É, também, a base da biblioteca Pandas.\n",
    "\n"
   ]
  },
  {
   "cell_type": "markdown",
   "id": "1af4e8e3",
   "metadata": {},
   "source": [
    "## Filtros e np.where()\n",
    "\n",
    "A função `np.where()` é muito útil para fazer uma seleção condicional de elementos de um array. Por exemplo, em uma empresa, você pode querer identificar quais funcionários têm salários acima da média.\n"
   ]
  },
  {
   "cell_type": "code",
   "execution_count": 1,
   "id": "0ae1e2cb",
   "metadata": {},
   "outputs": [
    {
     "name": "stdout",
     "output_type": "stream",
     "text": [
      "3714.285714285714\n"
     ]
    }
   ],
   "source": [
    "import numpy as np\n",
    "\n",
    "# Salários dos funcionários\n",
    "salarios = np.array([3000, 3500, 4000, 2000, 4500, 4000, 5000])\n",
    "\n",
    "# Calcular a média salarial\n",
    "media_salarial = np.mean(salarios)\n",
    "\n",
    "print(media_salarial)"
   ]
  },
  {
   "cell_type": "code",
   "execution_count": 3,
   "id": "d8cd7fdc",
   "metadata": {},
   "outputs": [
    {
     "name": "stdout",
     "output_type": "stream",
     "text": [
      "(array([2, 4, 5, 6]),)\n"
     ]
    }
   ],
   "source": [
    "# Identificar funcionários com salários acima da média\n",
    "funcionarios_acima_media = np.where(salarios > media_salarial)\n",
    "print(funcionarios_acima_media)"
   ]
  },
  {
   "cell_type": "code",
   "execution_count": null,
   "id": "7fa8158d",
   "metadata": {},
   "outputs": [
    {
     "name": "stdout",
     "output_type": "stream",
     "text": [
      "[4000 4500 4000 5000]\n"
     ]
    }
   ],
   "source": [
    "print(salarios[funcionarios_acima_media])"
   ]
  },
  {
   "cell_type": "code",
   "execution_count": null,
   "id": "203e2c8e",
   "metadata": {},
   "outputs": [
    {
     "name": "stdout",
     "output_type": "stream",
     "text": [
      "[False False  True False  True  True  True]\n"
     ]
    }
   ],
   "source": [
    "print(salarios > media_salarial)"
   ]
  },
  {
   "cell_type": "code",
   "execution_count": null,
   "id": "ab506066",
   "metadata": {},
   "outputs": [
    {
     "name": "stdout",
     "output_type": "stream",
     "text": [
      "[4000 4500 4000 5000]\n"
     ]
    }
   ],
   "source": [
    "print(salarios[salarios > media_salarial])"
   ]
  },
  {
   "cell_type": "code",
   "execution_count": null,
   "id": "4f71c141",
   "metadata": {},
   "outputs": [
    {
     "name": "stdout",
     "output_type": "stream",
     "text": [
      "[4000 4500 4000 5000]\n"
     ]
    }
   ],
   "source": [
    "print(salarios[salarios >= 4000]) "
   ]
  },
  {
   "cell_type": "code",
   "execution_count": null,
   "id": "31b257cb",
   "metadata": {},
   "outputs": [
    {
     "name": "stdout",
     "output_type": "stream",
     "text": [
      "['abaixo da média' 'abaixo da média' 'acima da média' 'abaixo da média'\n",
      " 'acima da média' 'acima da média' 'acima da média']\n"
     ]
    }
   ],
   "source": [
    "print(np.where(salarios > media_salarial, 'acima da média', 'abaixo da média'))\n"
   ]
  },
  {
   "cell_type": "code",
   "execution_count": null,
   "id": "a9447590",
   "metadata": {},
   "outputs": [
    {
     "name": "stdout",
     "output_type": "stream",
     "text": [
      "[3000 3500 4000 2000 4500 4000 5000]\n",
      "[3300. 3850. 4000. 2200. 4500. 4000. 5000.]\n"
     ]
    }
   ],
   "source": [
    "# dar bônus de 10% para os funcionários com salários abaixo da média\n",
    "salarios_bonus = np.where(salarios < media_salarial, salarios * 1.1, salarios)\n",
    "print(salarios)\n",
    "print(salarios_bonus)"
   ]
  },
  {
   "cell_type": "code",
   "execution_count": null,
   "id": "dda2c1c8",
   "metadata": {},
   "outputs": [
    {
     "name": "stdout",
     "output_type": "stream",
     "text": [
      "[3000 3500 4000 2000 4500 4000 5000]\n"
     ]
    }
   ],
   "source": [
    "# considerando novamente nossos salários originais\n",
    "print(salarios)"
   ]
  },
  {
   "cell_type": "code",
   "execution_count": null,
   "id": "bec782d0",
   "metadata": {},
   "outputs": [
    {
     "name": "stdout",
     "output_type": "stream",
     "text": [
      "(array([0, 1, 2, 4, 5], dtype=int64),)\n"
     ]
    }
   ],
   "source": [
    "# filtrar os salários entre 3000 e 4500 com where\n",
    "print(np.where((salarios >= 3000) & (salarios <= 4500)))"
   ]
  },
  {
   "cell_type": "code",
   "execution_count": null,
   "id": "604e5f46",
   "metadata": {},
   "outputs": [
    {
     "name": "stdout",
     "output_type": "stream",
     "text": [
      "[3150. 3675. 4200. 2000. 4725. 4200. 5000.]\n"
     ]
    }
   ],
   "source": [
    "salarios_ajustados = np.where((salarios >= 3000) & (salarios <= 4500), salarios * 1.05, salarios)\n",
    "print(salarios_ajustados)\n"
   ]
  },
  {
   "cell_type": "code",
   "execution_count": null,
   "id": "a21b4c29",
   "metadata": {},
   "outputs": [
    {
     "name": "stdout",
     "output_type": "stream",
     "text": [
      "(array([3, 4, 6], dtype=int64),)\n"
     ]
    }
   ],
   "source": [
    "# filtrar os salários abaixo de 3000 ou acima de 4500 com where\n",
    "print(np.where((salarios_ajustados < 3000) | (salarios_ajustados > 4500))) "
   ]
  },
  {
   "cell_type": "code",
   "execution_count": null,
   "id": "cc693427",
   "metadata": {},
   "outputs": [
    {
     "name": "stdout",
     "output_type": "stream",
     "text": [
      "[3150.  3675.  4200.  2200.  5197.5 4200.  5500. ]\n"
     ]
    }
   ],
   "source": [
    "salarios_ajustados = np.where((salarios_ajustados < 3000) | (salarios_ajustados > 4500), salarios_ajustados * 1.1, salarios_ajustados)\n",
    "print(salarios_ajustados) "
   ]
  },
  {
   "cell_type": "code",
   "execution_count": null,
   "id": "7823a3dc",
   "metadata": {},
   "outputs": [],
   "source": []
  }
 ],
 "metadata": {
  "kernelspec": {
   "display_name": ".venv",
   "language": "python",
   "name": "python3"
  },
  "language_info": {
   "codemirror_mode": {
    "name": "ipython",
    "version": 3
   },
   "file_extension": ".py",
   "mimetype": "text/x-python",
   "name": "python",
   "nbconvert_exporter": "python",
   "pygments_lexer": "ipython3",
   "version": "3.13.0"
  }
 },
 "nbformat": 4,
 "nbformat_minor": 5
}
