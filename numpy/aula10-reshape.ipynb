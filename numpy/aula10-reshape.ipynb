{
 "cells": [
  {
   "cell_type": "markdown",
   "id": "f943ff6c",
   "metadata": {},
   "source": [
    "Considere que uma loja funciona de segunda a sábado, independetemente de feriados. Nos últimos 30 dias, teve o menos volume de vendas sedo 20 e o maior sendo 200. Crie uma simulação das vendas desses ´ltimos 30 dias, separando por semanas.\n",
    "calcule:\n",
    "- o total de vendas por semana\n",
    "- a média de vendas por semana\n",
    "- a média de vendas por dia da semana"
   ]
  },
  {
   "cell_type": "code",
   "execution_count": null,
   "id": "3c7351f6",
   "metadata": {},
   "outputs": [
    {
     "name": "stdout",
     "output_type": "stream",
     "text": [
      "[173 135 112  68  75  27  33  22  51 167 137 185 111 129 195 152 134 118\n",
      " 121 189  70 167 141  20  91 175 120  26 158 152]\n"
     ]
    }
   ],
   "source": [
    "#gerando tabela de vendas hipotéticas do mês\n",
    "import numpy as np\n",
    "rng = np.random.default_rng(seed=0)\n",
    "vendas = np.array(rng.integers(low=20, high=200, size=30, endpoint=True))# o endpoint inclui o valor máximo, que no caso é 200\n",
    "print(vendas)"
   ]
  },
  {
   "cell_type": "code",
   "execution_count": 15,
   "id": "0a07ef44",
   "metadata": {},
   "outputs": [
    {
     "name": "stdout",
     "output_type": "stream",
     "text": [
      "[[173 135 112  68  75  27]\n",
      " [ 33  22  51 167 137 185]\n",
      " [111 129 195 152 134 118]\n",
      " [121 189  70 167 141  20]\n",
      " [ 91 175 120  26 158 152]]\n"
     ]
    }
   ],
   "source": [
    "#separando o mês em 6 semanas de 5 dias cada\n",
    "semanas = vendas.reshape(5,6)\n",
    "print(semanas)"
   ]
  },
  {
   "cell_type": "code",
   "execution_count": 16,
   "id": "7181cadd",
   "metadata": {},
   "outputs": [
    {
     "name": "stdout",
     "output_type": "stream",
     "text": [
      "[590 595 839 708 722]\n"
     ]
    }
   ],
   "source": [
    "#tota de vendas por semana\n",
    "print(semanas.sum(axis=1))\n"
   ]
  },
  {
   "cell_type": "code",
   "execution_count": 17,
   "id": "c179ed1b",
   "metadata": {},
   "outputs": [
    {
     "name": "stdout",
     "output_type": "stream",
     "text": [
      "[ 98.33333333  99.16666667 139.83333333 118.         120.33333333]\n"
     ]
    }
   ],
   "source": [
    "#média de vendas por semana\n",
    "print(semanas.mean(axis=1))"
   ]
  },
  {
   "cell_type": "code",
   "execution_count": 18,
   "id": "6c239e81",
   "metadata": {},
   "outputs": [
    {
     "name": "stdout",
     "output_type": "stream",
     "text": [
      "[105.8 130.  109.6 116.  129.  100.4]\n"
     ]
    }
   ],
   "source": [
    "#média de vendas por dia da semana\n",
    "print(semanas.mean(axis=0))"
   ]
  }
 ],
 "metadata": {
  "kernelspec": {
   "display_name": ".venv",
   "language": "python",
   "name": "python3"
  },
  "language_info": {
   "codemirror_mode": {
    "name": "ipython",
    "version": 3
   },
   "file_extension": ".py",
   "mimetype": "text/x-python",
   "name": "python",
   "nbconvert_exporter": "python",
   "pygments_lexer": "ipython3",
   "version": "3.13.0"
  }
 },
 "nbformat": 4,
 "nbformat_minor": 5
}
