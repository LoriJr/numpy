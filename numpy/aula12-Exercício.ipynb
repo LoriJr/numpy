{
 "cells": [
  {
   "cell_type": "markdown",
   "id": "b62f7a9c",
   "metadata": {},
   "source": [
    "## Exercício\n",
    "\n",
    "Você é um analista de dados em uma empresa e conduziu uma pesquisa de satisfação do cliente durante uma semana. Você perguntou as clientes para classificar seu nível de satisfação com o serviço ao cliente em uma escala de 0 a 10. Você coletou respostas de 30 clientes por dia durante 7 dias, resultando em um total de 210 respostas.\n",
    "\n",
    "No entanto, os dados que você recebeu estão em um array 1D de 210 elementos. Reorganize os dados de forma a ter as respostas por dia e faça uma análise descritiva básica, calculando a média geral de satisfação e a média diária."
   ]
  },
  {
   "cell_type": "code",
   "execution_count": null,
   "id": "573b3758",
   "metadata": {},
   "outputs": [
    {
     "name": "stdout",
     "output_type": "stream",
     "text": [
      "[ 9  7  5  2  3  0  0  0  1  8  7 10  5  6 10  8  6  5  6 10  3  8  7  0\n",
      "  4  9  6  0  8  8  9  1  0  9  0  5  0  3  5  4  4  0  0  1  0  7  5  7\n",
      "  2  6  8  4  5 10  8 10  4  7 10  7  9  7  7  4  9  1  6  7  9  5  4  3\n",
      "  4  5  7  9  0 10  5  3  7  6  2  3  7  6  5  3  8  4  3  9  2  2  7  6\n",
      "  0  0  4  9  4  8  3  2  8  9  0  0  7  3  6  1  9  4  9  8  7  2  8  0\n",
      "  6  4 10  2 10  0  6  6  9  3  9  7  9  2  8 10  0  4  7  1  5  6  8 10\n",
      "  4  4  5 10  2  5  0  4 10  6  3 10  6 10  0  5  9  8  4  5  4  5  2  8\n",
      "  0  4  3  8  8  7 10 10  2  1  1  8 10 10  7 10  9  0  1  9  0 10  9 10\n",
      "  3  1  5 10  4  9  4  9  2  5  3  2  9  8  1 10 10  2]\n"
     ]
    }
   ],
   "source": [
    "import numpy as np\n",
    "\n",
    "#gerando os dados aleatórios com 210 valores entre 0 e 10\n",
    "rng = np.random.default_rng(seed=0)\n",
    "respostas = np.array(rng.integers(low=0, high=10, size=210, endpoint=True))\n",
    "print(respostas)"
   ]
  },
  {
   "cell_type": "code",
   "execution_count": 10,
   "id": "f0e044a0",
   "metadata": {},
   "outputs": [
    {
     "name": "stdout",
     "output_type": "stream",
     "text": [
      "Média geral é de 5.34\n"
     ]
    }
   ],
   "source": [
    "respostas_por_dia = respostas.reshape(-1, 30) #pode ser -1,30 ou 7,30 tanto faz\n",
    "media_geral = respostas_por_dia.mean()\n",
    "print(f\"Média geral é de {media_geral:.2f}\")"
   ]
  },
  {
   "cell_type": "code",
   "execution_count": 17,
   "id": "eaa4a586",
   "metadata": {},
   "outputs": [
    {
     "name": "stdout",
     "output_type": "stream",
     "text": [
      "Média do dia 1 é de  5.37\n",
      "Média do dia 2 é de  4.70\n",
      "Média do dia 3 é de  5.50\n",
      "Média do dia 4 é de  4.67\n",
      "Média do dia 5 é de  5.73\n",
      "Média do dia 6 é de  5.37\n",
      "Média do dia 7 é de  6.07\n"
     ]
    }
   ],
   "source": [
    "media_diaria = respostas_por_dia.mean(axis=1)\n",
    "for i in range(7):\n",
    "    print(f\"Média do dia {i+1} é de  {media_diaria[i]:.2f}\")"
   ]
  }
 ],
 "metadata": {
  "kernelspec": {
   "display_name": ".venv",
   "language": "python",
   "name": "python3"
  },
  "language_info": {
   "codemirror_mode": {
    "name": "ipython",
    "version": 3
   },
   "file_extension": ".py",
   "mimetype": "text/x-python",
   "name": "python",
   "nbconvert_exporter": "python",
   "pygments_lexer": "ipython3",
   "version": "3.13.0"
  }
 },
 "nbformat": 4,
 "nbformat_minor": 5
}
